{
 "cells": [
  {
   "cell_type": "code",
   "execution_count": 29,
   "metadata": {
    "ExecuteTime": {
     "end_time": "2020-01-08T10:35:42.553595Z",
     "start_time": "2020-01-08T10:35:42.541442Z"
    }
   },
   "outputs": [],
   "source": [
    "import requests\n",
    "from bs4 import BeautifulSoup\n",
    "import pandas as pd\n",
    "import re\n",
    "import string\n",
    "from time import sleep\n",
    "import sys\n",
    "import MeCab\n",
    "import numpy as np\n",
    "from PIL import Image\n",
    "from sklearn.feature_extraction.text import TfidfVectorizer\n",
    "import matplotlib.pyplot as plt\n",
    "from tqdm import tqdm_notebook as tqdm\n",
    "import warnings\n",
    "%matplotlib inline\n",
    "warnings.simplefilter('ignore')"
   ]
  },
  {
   "cell_type": "markdown",
   "metadata": {},
   "source": [
    "# 読み込み"
   ]
  },
  {
   "cell_type": "code",
   "execution_count": 2,
   "metadata": {
    "ExecuteTime": {
     "end_time": "2020-01-08T10:23:24.876426Z",
     "start_time": "2020-01-08T10:23:24.714147Z"
    }
   },
   "outputs": [
    {
     "data": {
      "text/html": [
       "<div>\n",
       "<style scoped>\n",
       "    .dataframe tbody tr th:only-of-type {\n",
       "        vertical-align: middle;\n",
       "    }\n",
       "\n",
       "    .dataframe tbody tr th {\n",
       "        vertical-align: top;\n",
       "    }\n",
       "\n",
       "    .dataframe thead th {\n",
       "        text-align: right;\n",
       "    }\n",
       "</style>\n",
       "<table border=\"1\" class=\"dataframe\">\n",
       "  <thead>\n",
       "    <tr style=\"text-align: right;\">\n",
       "      <th></th>\n",
       "      <th>Unnamed: 0</th>\n",
       "      <th>Artist</th>\n",
       "      <th>Composer</th>\n",
       "      <th>Lyricist</th>\n",
       "      <th>SongName</th>\n",
       "      <th>URL</th>\n",
       "      <th>Lyric</th>\n",
       "      <th>Sales_Date</th>\n",
       "      <th>CD_Number</th>\n",
       "    </tr>\n",
       "  </thead>\n",
       "  <tbody>\n",
       "    <tr>\n",
       "      <th>0</th>\n",
       "      <td>0</td>\n",
       "      <td>B'z</td>\n",
       "      <td>Takahiro Matsumoto</td>\n",
       "      <td>Kohshi Inaba</td>\n",
       "      <td>I WANNA DANCE Wicked Beat Style</td>\n",
       "      <td>https://www.uta-net.com/song/54892/</td>\n",
       "      <td>Crush! Crush! Taxi on a busy neon streetGive m...</td>\n",
       "      <td>：1990-06-2</td>\n",
       "      <td>：BMCR-900</td>\n",
       "    </tr>\n",
       "    <tr>\n",
       "      <th>1</th>\n",
       "      <td>1</td>\n",
       "      <td>B'z</td>\n",
       "      <td>松本孝弘</td>\n",
       "      <td>稲葉浩志</td>\n",
       "      <td>あいかわらずなボクら</td>\n",
       "      <td>https://www.uta-net.com/song/7938/</td>\n",
       "      <td>今まで好きなこともしたし たまに我慢もしてきた「あいつはダメだ」 なんてキミ勝手に決めないで...</td>\n",
       "      <td>：1991-11-2</td>\n",
       "      <td>：BMCR-64B</td>\n",
       "    </tr>\n",
       "    <tr>\n",
       "      <th>2</th>\n",
       "      <td>2</td>\n",
       "      <td>B'z</td>\n",
       "      <td>TAK MATSUMOTO</td>\n",
       "      <td>KOSHI INABA</td>\n",
       "      <td>愛と憎しみのハジマリ</td>\n",
       "      <td>https://www.uta-net.com/song/17979/</td>\n",
       "      <td>誰もが愛する者　守ろうとしてる頃　憎しみがスキをうかがう大破綻の雰囲気が世界中を取り巻いて朝...</td>\n",
       "      <td>：2003-09-1</td>\n",
       "      <td>：BMCV-800</td>\n",
       "    </tr>\n",
       "    <tr>\n",
       "      <th>3</th>\n",
       "      <td>3</td>\n",
       "      <td>B'z</td>\n",
       "      <td>松本孝弘</td>\n",
       "      <td>稲葉浩志</td>\n",
       "      <td>愛のバクダン</td>\n",
       "      <td>https://www.uta-net.com/song/25415/</td>\n",
       "      <td>今日も一日　不完全な世界きみが泣かなくても　誰か泣く人がこしらえた　悲しみのからくりなんとか...</td>\n",
       "      <td>：2005-03-0</td>\n",
       "      <td>：BMCV-400</td>\n",
       "    </tr>\n",
       "    <tr>\n",
       "      <th>4</th>\n",
       "      <td>4</td>\n",
       "      <td>B'z</td>\n",
       "      <td>TAK MATSUMOTO</td>\n",
       "      <td>KOSHI INABA</td>\n",
       "      <td>愛のprisoner</td>\n",
       "      <td>https://www.uta-net.com/song/26049/</td>\n",
       "      <td>I hate you, hate you　こらえきれずに夜の闇に吠える　涙流さないあなたのど...</td>\n",
       "      <td>：2000-12-0</td>\n",
       "      <td>：BMCR-704</td>\n",
       "    </tr>\n",
       "  </tbody>\n",
       "</table>\n",
       "</div>"
      ],
      "text/plain": [
       "   Unnamed: 0 Artist            Composer      Lyricist  \\\n",
       "0           0    B'z  Takahiro Matsumoto  Kohshi Inaba   \n",
       "1           1    B'z                松本孝弘          稲葉浩志   \n",
       "2           2    B'z       TAK MATSUMOTO   KOSHI INABA   \n",
       "3           3    B'z                松本孝弘          稲葉浩志   \n",
       "4           4    B'z       TAK MATSUMOTO   KOSHI INABA   \n",
       "\n",
       "                          SongName                                  URL  \\\n",
       "0  I WANNA DANCE Wicked Beat Style  https://www.uta-net.com/song/54892/   \n",
       "1                       あいかわらずなボクら   https://www.uta-net.com/song/7938/   \n",
       "2                       愛と憎しみのハジマリ  https://www.uta-net.com/song/17979/   \n",
       "3                           愛のバクダン  https://www.uta-net.com/song/25415/   \n",
       "4                       愛のprisoner  https://www.uta-net.com/song/26049/   \n",
       "\n",
       "                                               Lyric  Sales_Date  CD_Number  \n",
       "0  Crush! Crush! Taxi on a busy neon streetGive m...  ：1990-06-2  ：BMCR-900  \n",
       "1  今まで好きなこともしたし たまに我慢もしてきた「あいつはダメだ」 なんてキミ勝手に決めないで...  ：1991-11-2  ：BMCR-64B  \n",
       "2  誰もが愛する者　守ろうとしてる頃　憎しみがスキをうかがう大破綻の雰囲気が世界中を取り巻いて朝...  ：2003-09-1  ：BMCV-800  \n",
       "3  今日も一日　不完全な世界きみが泣かなくても　誰か泣く人がこしらえた　悲しみのからくりなんとか...  ：2005-03-0  ：BMCV-400  \n",
       "4  I hate you, hate you　こらえきれずに夜の闇に吠える　涙流さないあなたのど...  ：2000-12-0  ：BMCR-704  "
      ]
     },
     "execution_count": 2,
     "metadata": {},
     "output_type": "execute_result"
    }
   ],
   "source": [
    "df = pd.read_csv('lyrics_original.csv')\n",
    "df.head()"
   ]
  },
  {
   "cell_type": "markdown",
   "metadata": {},
   "source": [
    "# 形態素解析"
   ]
  },
  {
   "cell_type": "code",
   "execution_count": 39,
   "metadata": {
    "ExecuteTime": {
     "end_time": "2020-01-08T10:54:56.368035Z",
     "start_time": "2020-01-08T10:54:56.361777Z"
    }
   },
   "outputs": [],
   "source": [
    "def get_dokuritsugo_by_mecab(text):\n",
    "    tagger = MeCab.Tagger('/usr/local/lib/mecab/dic/mecab-ipadic-neologd/')\n",
    "    tagger.parse('')\n",
    "    node = tagger.parseToNode(text)\n",
    "    word_list = []\n",
    "    while node:\n",
    "        pos = node.feature.split(\",\")[0]\n",
    "        if pos in ['名詞', '動詞', '形容詞']:  # 対象とする品詞\n",
    "            word = node.surface\n",
    "            word_list.append(word)\n",
    "        node = node.next\n",
    "    return ' '.join(word_list)"
   ]
  },
  {
   "cell_type": "code",
   "execution_count": 56,
   "metadata": {
    "ExecuteTime": {
     "end_time": "2020-01-08T10:57:10.729247Z",
     "start_time": "2020-01-08T10:57:08.744518Z"
    }
   },
   "outputs": [
    {
     "data": {
      "text/html": [
       "<div>\n",
       "<style scoped>\n",
       "    .dataframe tbody tr th:only-of-type {\n",
       "        vertical-align: middle;\n",
       "    }\n",
       "\n",
       "    .dataframe tbody tr th {\n",
       "        vertical-align: top;\n",
       "    }\n",
       "\n",
       "    .dataframe thead th {\n",
       "        text-align: right;\n",
       "    }\n",
       "</style>\n",
       "<table border=\"1\" class=\"dataframe\">\n",
       "  <thead>\n",
       "    <tr style=\"text-align: right;\">\n",
       "      <th></th>\n",
       "      <th>Unnamed: 0</th>\n",
       "      <th>Artist</th>\n",
       "      <th>Composer</th>\n",
       "      <th>Lyricist</th>\n",
       "      <th>SongName</th>\n",
       "      <th>URL</th>\n",
       "      <th>Lyric</th>\n",
       "      <th>Sales_Date</th>\n",
       "      <th>CD_Number</th>\n",
       "      <th>preprocessed_by_mecab</th>\n",
       "      <th>remove_stop_words</th>\n",
       "    </tr>\n",
       "  </thead>\n",
       "  <tbody>\n",
       "    <tr>\n",
       "      <th>0</th>\n",
       "      <td>0</td>\n",
       "      <td>B'z</td>\n",
       "      <td>Takahiro Matsumoto</td>\n",
       "      <td>Kohshi Inaba</td>\n",
       "      <td>I WANNA DANCE Wicked Beat Style</td>\n",
       "      <td>https://www.uta-net.com/song/54892/</td>\n",
       "      <td>Crush! Crush! Taxi on a busy neon streetGive m...</td>\n",
       "      <td>：1990-06-2</td>\n",
       "      <td>：BMCR-900</td>\n",
       "      <td>Crush ! Crush ! Taxi on a busy neon streetGive...</td>\n",
       "      <td>crush    crush    taxi  busy  neon  streetgive...</td>\n",
       "    </tr>\n",
       "    <tr>\n",
       "      <th>1</th>\n",
       "      <td>1</td>\n",
       "      <td>B'z</td>\n",
       "      <td>松本孝弘</td>\n",
       "      <td>稲葉浩志</td>\n",
       "      <td>あいかわらずなボクら</td>\n",
       "      <td>https://www.uta-net.com/song/7938/</td>\n",
       "      <td>今まで好きなこともしたし たまに我慢もしてきた「あいつはダメだ」 なんてキミ勝手に決めないで...</td>\n",
       "      <td>：1991-11-2</td>\n",
       "      <td>：BMCR-64B</td>\n",
       "      <td>今 好き こと し 我慢 し き あいつ ダメ キミ 勝手 決め 余計 お世話 どこ 行っ ...</td>\n",
       "      <td>今  好き  我慢  き  あいつ  ダメ  キミ  勝手  決め  余計  お世話  どこ...</td>\n",
       "    </tr>\n",
       "    <tr>\n",
       "      <th>2</th>\n",
       "      <td>2</td>\n",
       "      <td>B'z</td>\n",
       "      <td>TAK MATSUMOTO</td>\n",
       "      <td>KOSHI INABA</td>\n",
       "      <td>愛と憎しみのハジマリ</td>\n",
       "      <td>https://www.uta-net.com/song/17979/</td>\n",
       "      <td>誰もが愛する者　守ろうとしてる頃　憎しみがスキをうかがう大破綻の雰囲気が世界中を取り巻いて朝...</td>\n",
       "      <td>：2003-09-1</td>\n",
       "      <td>：BMCV-800</td>\n",
       "      <td>誰 愛する 者 守ろ し てる 頃 憎しみ スキ うかがう 破綻 雰囲気 世界中 取り巻い ...</td>\n",
       "      <td>誰  愛する  者  守ろ  頃  憎しみ  スキ  うかがう  破綻  雰囲気  世界中 ...</td>\n",
       "    </tr>\n",
       "    <tr>\n",
       "      <th>3</th>\n",
       "      <td>3</td>\n",
       "      <td>B'z</td>\n",
       "      <td>松本孝弘</td>\n",
       "      <td>稲葉浩志</td>\n",
       "      <td>愛のバクダン</td>\n",
       "      <td>https://www.uta-net.com/song/25415/</td>\n",
       "      <td>今日も一日　不完全な世界きみが泣かなくても　誰か泣く人がこしらえた　悲しみのからくりなんとか...</td>\n",
       "      <td>：2005-03-0</td>\n",
       "      <td>：BMCV-400</td>\n",
       "      <td>今日 一 日 不完全 世界 きみ 泣か 誰 泣く 人 こしらえ 悲しみ からくり できる の...</td>\n",
       "      <td>今日  一  日  不完全  世界  きみ  泣か  誰  泣く  人  こしらえ  悲しみ...</td>\n",
       "    </tr>\n",
       "    <tr>\n",
       "      <th>4</th>\n",
       "      <td>4</td>\n",
       "      <td>B'z</td>\n",
       "      <td>TAK MATSUMOTO</td>\n",
       "      <td>KOSHI INABA</td>\n",
       "      <td>愛のprisoner</td>\n",
       "      <td>https://www.uta-net.com/song/26049/</td>\n",
       "      <td>I hate you, hate you　こらえきれずに夜の闇に吠える　涙流さないあなたのど...</td>\n",
       "      <td>：2000-12-0</td>\n",
       "      <td>：BMCR-704</td>\n",
       "      <td>I hate you , hate you こらえ きれ 夜 闇 吠える 涙 流さ あなた ...</td>\n",
       "      <td>hate    hate  こらえ  きれ  夜  闇  吠える  涙  流さ  あなた  ...</td>\n",
       "    </tr>\n",
       "  </tbody>\n",
       "</table>\n",
       "</div>"
      ],
      "text/plain": [
       "   Unnamed: 0 Artist            Composer      Lyricist  \\\n",
       "0           0    B'z  Takahiro Matsumoto  Kohshi Inaba   \n",
       "1           1    B'z                松本孝弘          稲葉浩志   \n",
       "2           2    B'z       TAK MATSUMOTO   KOSHI INABA   \n",
       "3           3    B'z                松本孝弘          稲葉浩志   \n",
       "4           4    B'z       TAK MATSUMOTO   KOSHI INABA   \n",
       "\n",
       "                          SongName                                  URL  \\\n",
       "0  I WANNA DANCE Wicked Beat Style  https://www.uta-net.com/song/54892/   \n",
       "1                       あいかわらずなボクら   https://www.uta-net.com/song/7938/   \n",
       "2                       愛と憎しみのハジマリ  https://www.uta-net.com/song/17979/   \n",
       "3                           愛のバクダン  https://www.uta-net.com/song/25415/   \n",
       "4                       愛のprisoner  https://www.uta-net.com/song/26049/   \n",
       "\n",
       "                                               Lyric  Sales_Date  CD_Number  \\\n",
       "0  Crush! Crush! Taxi on a busy neon streetGive m...  ：1990-06-2  ：BMCR-900   \n",
       "1  今まで好きなこともしたし たまに我慢もしてきた「あいつはダメだ」 なんてキミ勝手に決めないで...  ：1991-11-2  ：BMCR-64B   \n",
       "2  誰もが愛する者　守ろうとしてる頃　憎しみがスキをうかがう大破綻の雰囲気が世界中を取り巻いて朝...  ：2003-09-1  ：BMCV-800   \n",
       "3  今日も一日　不完全な世界きみが泣かなくても　誰か泣く人がこしらえた　悲しみのからくりなんとか...  ：2005-03-0  ：BMCV-400   \n",
       "4  I hate you, hate you　こらえきれずに夜の闇に吠える　涙流さないあなたのど...  ：2000-12-0  ：BMCR-704   \n",
       "\n",
       "                               preprocessed_by_mecab  \\\n",
       "0  Crush ! Crush ! Taxi on a busy neon streetGive...   \n",
       "1  今 好き こと し 我慢 し き あいつ ダメ キミ 勝手 決め 余計 お世話 どこ 行っ ...   \n",
       "2  誰 愛する 者 守ろ し てる 頃 憎しみ スキ うかがう 破綻 雰囲気 世界中 取り巻い ...   \n",
       "3  今日 一 日 不完全 世界 きみ 泣か 誰 泣く 人 こしらえ 悲しみ からくり できる の...   \n",
       "4  I hate you , hate you こらえ きれ 夜 闇 吠える 涙 流さ あなた ...   \n",
       "\n",
       "                                   remove_stop_words  \n",
       "0  crush    crush    taxi  busy  neon  streetgive...  \n",
       "1  今  好き  我慢  き  あいつ  ダメ  キミ  勝手  決め  余計  お世話  どこ...  \n",
       "2  誰  愛する  者  守ろ  頃  憎しみ  スキ  うかがう  破綻  雰囲気  世界中 ...  \n",
       "3  今日  一  日  不完全  世界  きみ  泣か  誰  泣く  人  こしらえ  悲しみ...  \n",
       "4  hate    hate  こらえ  きれ  夜  闇  吠える  涙  流さ  あなた  ...  "
      ]
     },
     "execution_count": 56,
     "metadata": {},
     "output_type": "execute_result"
    }
   ],
   "source": [
    "df['preprocessed_by_mecab'] = df['Lyric'].apply(lambda x:get_dokuritsugo_by_mecab(x))\n",
    "df.head()"
   ]
  },
  {
   "cell_type": "markdown",
   "metadata": {},
   "source": [
    "# 不要語の削除"
   ]
  },
  {
   "cell_type": "markdown",
   "metadata": {},
   "source": [
    "## 英語の不要語"
   ]
  },
  {
   "cell_type": "code",
   "execution_count": 57,
   "metadata": {
    "ExecuteTime": {
     "end_time": "2020-01-08T10:57:12.400677Z",
     "start_time": "2020-01-08T10:57:12.393687Z"
    }
   },
   "outputs": [
    {
     "name": "stderr",
     "output_type": "stream",
     "text": [
      "[nltk_data] Downloading package stopwords to\n",
      "[nltk_data]     /Users/masato.ninohira/nltk_data...\n",
      "[nltk_data]   Package stopwords is already up-to-date!\n"
     ]
    }
   ],
   "source": [
    "from sklearn.feature_extraction import stop_words\n",
    "stop_words_sklearn = stop_words.ENGLISH_STOP_WORDS\n",
    "\n",
    "import nltk\n",
    "nltk.download('stopwords')\n",
    "stop_words_nltk = nltk.corpus.stopwords.words('english')"
   ]
  },
  {
   "cell_type": "code",
   "execution_count": 58,
   "metadata": {
    "ExecuteTime": {
     "end_time": "2020-01-08T10:57:12.654910Z",
     "start_time": "2020-01-08T10:57:12.641811Z"
    }
   },
   "outputs": [
    {
     "data": {
      "text/plain": [
       "(318, 179)"
      ]
     },
     "execution_count": 58,
     "metadata": {},
     "output_type": "execute_result"
    }
   ],
   "source": [
    "len(stop_words_sklearn), len(stop_words_nltk)"
   ]
  },
  {
   "cell_type": "code",
   "execution_count": 59,
   "metadata": {
    "ExecuteTime": {
     "end_time": "2020-01-08T10:57:13.057807Z",
     "start_time": "2020-01-08T10:57:13.047756Z"
    }
   },
   "outputs": [
    {
     "data": {
      "text/plain": [
       "378"
      ]
     },
     "execution_count": 59,
     "metadata": {},
     "output_type": "execute_result"
    }
   ],
   "source": [
    "# 連結し重複ある単語をsetで削除\n",
    "eng_stop_words = list(set(stop_words_sklearn.union(stop_words_nltk)))\n",
    "len(eng_stop_words)"
   ]
  },
  {
   "cell_type": "markdown",
   "metadata": {},
   "source": [
    "## 日本語の不要語"
   ]
  },
  {
   "cell_type": "code",
   "execution_count": 60,
   "metadata": {
    "ExecuteTime": {
     "end_time": "2020-01-08T10:57:13.784986Z",
     "start_time": "2020-01-08T10:57:13.778828Z"
    }
   },
   "outputs": [
    {
     "data": {
      "text/plain": [
       "13"
      ]
     },
     "execution_count": 60,
     "metadata": {},
     "output_type": "execute_result"
    }
   ],
   "source": [
    "add_words = [\n",
    "    \",\", 'それ', 'てる', 'よう', 'こと', 'の', 'し', 'い', 'ん', 'さ', 'て', 'せ', 'れ'\n",
    "]\n",
    "len(add_words)"
   ]
  },
  {
   "cell_type": "markdown",
   "metadata": {},
   "source": [
    "## 全不要語の削除"
   ]
  },
  {
   "cell_type": "code",
   "execution_count": 46,
   "metadata": {
    "ExecuteTime": {
     "end_time": "2020-01-08T10:56:18.396535Z",
     "start_time": "2020-01-08T10:56:18.389801Z"
    }
   },
   "outputs": [
    {
     "data": {
      "text/plain": [
       "391"
      ]
     },
     "execution_count": 46,
     "metadata": {},
     "output_type": "execute_result"
    }
   ],
   "source": [
    "stop_words_all = eng_stop_words + add_words\n",
    "len(stop_words_all)"
   ]
  },
  {
   "cell_type": "code",
   "execution_count": 63,
   "metadata": {
    "ExecuteTime": {
     "end_time": "2020-01-08T10:57:24.365680Z",
     "start_time": "2020-01-08T10:57:24.361292Z"
    }
   },
   "outputs": [],
   "source": [
    "def del_stop_words(text):\n",
    "    #!マークなども消したいので正規表現で空文字に置換\n",
    "    regex = re.compile('[' + re.escape(string.punctuation) + '0-9\\\\r\\\\t\\\\n]')\n",
    "    sample = regex.sub('', text)\n",
    "\n",
    "    #小文字にして、stop wordsに入っていなければリストに追加\n",
    "    words = [w.lower()  for w in sample.split(' ') \\\n",
    "                 if not w.lower()  in stop_words_all]\n",
    "    words = ' '.join(words)\n",
    "    return words"
   ]
  },
  {
   "cell_type": "code",
   "execution_count": 64,
   "metadata": {
    "ExecuteTime": {
     "end_time": "2020-01-08T10:57:25.268630Z",
     "start_time": "2020-01-08T10:57:25.014027Z"
    }
   },
   "outputs": [
    {
     "data": {
      "text/html": [
       "<div>\n",
       "<style scoped>\n",
       "    .dataframe tbody tr th:only-of-type {\n",
       "        vertical-align: middle;\n",
       "    }\n",
       "\n",
       "    .dataframe tbody tr th {\n",
       "        vertical-align: top;\n",
       "    }\n",
       "\n",
       "    .dataframe thead th {\n",
       "        text-align: right;\n",
       "    }\n",
       "</style>\n",
       "<table border=\"1\" class=\"dataframe\">\n",
       "  <thead>\n",
       "    <tr style=\"text-align: right;\">\n",
       "      <th></th>\n",
       "      <th>Unnamed: 0</th>\n",
       "      <th>Artist</th>\n",
       "      <th>Composer</th>\n",
       "      <th>Lyricist</th>\n",
       "      <th>SongName</th>\n",
       "      <th>URL</th>\n",
       "      <th>Lyric</th>\n",
       "      <th>Sales_Date</th>\n",
       "      <th>CD_Number</th>\n",
       "      <th>preprocessed_by_mecab</th>\n",
       "      <th>remove_stop_words</th>\n",
       "    </tr>\n",
       "  </thead>\n",
       "  <tbody>\n",
       "    <tr>\n",
       "      <th>0</th>\n",
       "      <td>0</td>\n",
       "      <td>B'z</td>\n",
       "      <td>Takahiro Matsumoto</td>\n",
       "      <td>Kohshi Inaba</td>\n",
       "      <td>I WANNA DANCE Wicked Beat Style</td>\n",
       "      <td>https://www.uta-net.com/song/54892/</td>\n",
       "      <td>Crush! Crush! Taxi on a busy neon streetGive m...</td>\n",
       "      <td>：1990-06-2</td>\n",
       "      <td>：BMCR-900</td>\n",
       "      <td>Crush ! Crush ! Taxi on a busy neon streetGive...</td>\n",
       "      <td>crush  crush  taxi busy neon streetgive baby  ...</td>\n",
       "    </tr>\n",
       "    <tr>\n",
       "      <th>1</th>\n",
       "      <td>1</td>\n",
       "      <td>B'z</td>\n",
       "      <td>松本孝弘</td>\n",
       "      <td>稲葉浩志</td>\n",
       "      <td>あいかわらずなボクら</td>\n",
       "      <td>https://www.uta-net.com/song/7938/</td>\n",
       "      <td>今まで好きなこともしたし たまに我慢もしてきた「あいつはダメだ」 なんてキミ勝手に決めないで...</td>\n",
       "      <td>：1991-11-2</td>\n",
       "      <td>：BMCR-64B</td>\n",
       "      <td>今 好き こと し 我慢 し き あいつ ダメ キミ 勝手 決め 余計 お世話 どこ 行っ ...</td>\n",
       "      <td>今 好き 我慢 き あいつ ダメ キミ 勝手 決め 余計 お世話 どこ 行っ いい 道 いく...</td>\n",
       "    </tr>\n",
       "    <tr>\n",
       "      <th>2</th>\n",
       "      <td>2</td>\n",
       "      <td>B'z</td>\n",
       "      <td>TAK MATSUMOTO</td>\n",
       "      <td>KOSHI INABA</td>\n",
       "      <td>愛と憎しみのハジマリ</td>\n",
       "      <td>https://www.uta-net.com/song/17979/</td>\n",
       "      <td>誰もが愛する者　守ろうとしてる頃　憎しみがスキをうかがう大破綻の雰囲気が世界中を取り巻いて朝...</td>\n",
       "      <td>：2003-09-1</td>\n",
       "      <td>：BMCV-800</td>\n",
       "      <td>誰 愛する 者 守ろ し てる 頃 憎しみ スキ うかがう 破綻 雰囲気 世界中 取り巻い ...</td>\n",
       "      <td>誰 愛する 者 守ろ 頃 憎しみ スキ うかがう 破綻 雰囲気 世界中 取り巻い 朝夕 空 ...</td>\n",
       "    </tr>\n",
       "    <tr>\n",
       "      <th>3</th>\n",
       "      <td>3</td>\n",
       "      <td>B'z</td>\n",
       "      <td>松本孝弘</td>\n",
       "      <td>稲葉浩志</td>\n",
       "      <td>愛のバクダン</td>\n",
       "      <td>https://www.uta-net.com/song/25415/</td>\n",
       "      <td>今日も一日　不完全な世界きみが泣かなくても　誰か泣く人がこしらえた　悲しみのからくりなんとか...</td>\n",
       "      <td>：2005-03-0</td>\n",
       "      <td>：BMCV-400</td>\n",
       "      <td>今日 一 日 不完全 世界 きみ 泣か 誰 泣く 人 こしらえ 悲しみ からくり できる の...</td>\n",
       "      <td>今日 一 日 不完全 世界 きみ 泣か 誰 泣く 人 こしらえ 悲しみ からくり できる s...</td>\n",
       "    </tr>\n",
       "    <tr>\n",
       "      <th>4</th>\n",
       "      <td>4</td>\n",
       "      <td>B'z</td>\n",
       "      <td>TAK MATSUMOTO</td>\n",
       "      <td>KOSHI INABA</td>\n",
       "      <td>愛のprisoner</td>\n",
       "      <td>https://www.uta-net.com/song/26049/</td>\n",
       "      <td>I hate you, hate you　こらえきれずに夜の闇に吠える　涙流さないあなたのど...</td>\n",
       "      <td>：2000-12-0</td>\n",
       "      <td>：BMCR-704</td>\n",
       "      <td>I hate you , hate you こらえ きれ 夜 闇 吠える 涙 流さ あなた ...</td>\n",
       "      <td>hate  hate こらえ きれ 夜 闇 吠える 涙 流さ あなた どこ 念入り 探し 僕...</td>\n",
       "    </tr>\n",
       "  </tbody>\n",
       "</table>\n",
       "</div>"
      ],
      "text/plain": [
       "   Unnamed: 0 Artist            Composer      Lyricist  \\\n",
       "0           0    B'z  Takahiro Matsumoto  Kohshi Inaba   \n",
       "1           1    B'z                松本孝弘          稲葉浩志   \n",
       "2           2    B'z       TAK MATSUMOTO   KOSHI INABA   \n",
       "3           3    B'z                松本孝弘          稲葉浩志   \n",
       "4           4    B'z       TAK MATSUMOTO   KOSHI INABA   \n",
       "\n",
       "                          SongName                                  URL  \\\n",
       "0  I WANNA DANCE Wicked Beat Style  https://www.uta-net.com/song/54892/   \n",
       "1                       あいかわらずなボクら   https://www.uta-net.com/song/7938/   \n",
       "2                       愛と憎しみのハジマリ  https://www.uta-net.com/song/17979/   \n",
       "3                           愛のバクダン  https://www.uta-net.com/song/25415/   \n",
       "4                       愛のprisoner  https://www.uta-net.com/song/26049/   \n",
       "\n",
       "                                               Lyric  Sales_Date  CD_Number  \\\n",
       "0  Crush! Crush! Taxi on a busy neon streetGive m...  ：1990-06-2  ：BMCR-900   \n",
       "1  今まで好きなこともしたし たまに我慢もしてきた「あいつはダメだ」 なんてキミ勝手に決めないで...  ：1991-11-2  ：BMCR-64B   \n",
       "2  誰もが愛する者　守ろうとしてる頃　憎しみがスキをうかがう大破綻の雰囲気が世界中を取り巻いて朝...  ：2003-09-1  ：BMCV-800   \n",
       "3  今日も一日　不完全な世界きみが泣かなくても　誰か泣く人がこしらえた　悲しみのからくりなんとか...  ：2005-03-0  ：BMCV-400   \n",
       "4  I hate you, hate you　こらえきれずに夜の闇に吠える　涙流さないあなたのど...  ：2000-12-0  ：BMCR-704   \n",
       "\n",
       "                               preprocessed_by_mecab  \\\n",
       "0  Crush ! Crush ! Taxi on a busy neon streetGive...   \n",
       "1  今 好き こと し 我慢 し き あいつ ダメ キミ 勝手 決め 余計 お世話 どこ 行っ ...   \n",
       "2  誰 愛する 者 守ろ し てる 頃 憎しみ スキ うかがう 破綻 雰囲気 世界中 取り巻い ...   \n",
       "3  今日 一 日 不完全 世界 きみ 泣か 誰 泣く 人 こしらえ 悲しみ からくり できる の...   \n",
       "4  I hate you , hate you こらえ きれ 夜 闇 吠える 涙 流さ あなた ...   \n",
       "\n",
       "                                   remove_stop_words  \n",
       "0  crush  crush  taxi busy neon streetgive baby  ...  \n",
       "1  今 好き 我慢 き あいつ ダメ キミ 勝手 決め 余計 お世話 どこ 行っ いい 道 いく...  \n",
       "2  誰 愛する 者 守ろ 頃 憎しみ スキ うかがう 破綻 雰囲気 世界中 取り巻い 朝夕 空 ...  \n",
       "3  今日 一 日 不完全 世界 きみ 泣か 誰 泣く 人 こしらえ 悲しみ からくり できる s...  \n",
       "4  hate  hate こらえ きれ 夜 闇 吠える 涙 流さ あなた どこ 念入り 探し 僕...  "
      ]
     },
     "execution_count": 64,
     "metadata": {},
     "output_type": "execute_result"
    }
   ],
   "source": [
    "df['remove_stop_words'] = list(df['preprocessed_by_mecab'].apply(lambda x: del_stop_words(x)))\n",
    "df.head()"
   ]
  },
  {
   "cell_type": "code",
   "execution_count": 65,
   "metadata": {
    "ExecuteTime": {
     "end_time": "2020-01-08T10:57:27.459929Z",
     "start_time": "2020-01-08T10:57:27.431205Z"
    }
   },
   "outputs": [],
   "source": [
    "df.to_csv('preprocessed_lyrics.csv')"
   ]
  },
  {
   "cell_type": "code",
   "execution_count": null,
   "metadata": {},
   "outputs": [],
   "source": []
  }
 ],
 "metadata": {
  "kernelspec": {
   "display_name": "Python 3",
   "language": "python",
   "name": "python3"
  },
  "language_info": {
   "codemirror_mode": {
    "name": "ipython",
    "version": 3
   },
   "file_extension": ".py",
   "mimetype": "text/x-python",
   "name": "python",
   "nbconvert_exporter": "python",
   "pygments_lexer": "ipython3",
   "version": "3.5.6"
  },
  "toc": {
   "base_numbering": 1,
   "nav_menu": {},
   "number_sections": true,
   "sideBar": true,
   "skip_h1_title": false,
   "title_cell": "Table of Contents",
   "title_sidebar": "Contents",
   "toc_cell": false,
   "toc_position": {},
   "toc_section_display": true,
   "toc_window_display": false
  },
  "varInspector": {
   "cols": {
    "lenName": 16,
    "lenType": 16,
    "lenVar": 40
   },
   "kernels_config": {
    "python": {
     "delete_cmd_postfix": "",
     "delete_cmd_prefix": "del ",
     "library": "var_list.py",
     "varRefreshCmd": "print(var_dic_list())"
    },
    "r": {
     "delete_cmd_postfix": ") ",
     "delete_cmd_prefix": "rm(",
     "library": "var_list.r",
     "varRefreshCmd": "cat(var_dic_list()) "
    }
   },
   "types_to_exclude": [
    "module",
    "function",
    "builtin_function_or_method",
    "instance",
    "_Feature"
   ],
   "window_display": false
  }
 },
 "nbformat": 4,
 "nbformat_minor": 2
}
