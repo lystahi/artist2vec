{
 "cells": [
  {
   "cell_type": "code",
   "execution_count": 19,
   "metadata": {
    "ExecuteTime": {
     "end_time": "2020-01-03T11:56:12.033997Z",
     "start_time": "2020-01-03T11:56:12.022475Z"
    }
   },
   "outputs": [],
   "source": [
    "import requests\n",
    "from bs4 import BeautifulSoup\n",
    "import pandas as pd\n",
    "import re\n",
    "from time import sleep\n",
    "import sys\n",
    "import MeCab\n",
    "import numpy as np\n",
    "from PIL import Image\n",
    "from sklearn.feature_extraction.text import TfidfVectorizer\n",
    "import matplotlib.pyplot as plt\n",
    "from tqdm import tqdm_notebook as tqdm\n",
    "import warnings\n",
    "%matplotlib inline\n",
    "warnings.simplefilter('ignore')"
   ]
  },
  {
   "cell_type": "markdown",
   "metadata": {},
   "source": [
    "# 歌詞のスクレイピング\n",
    "参考: https://qiita.com/nekoumei/items/b1afca7cfb9e54303ab4"
   ]
  },
  {
   "cell_type": "code",
   "execution_count": 2,
   "metadata": {
    "ExecuteTime": {
     "end_time": "2020-01-03T11:48:50.050515Z",
     "start_time": "2020-01-03T11:48:50.045243Z"
    }
   },
   "outputs": [],
   "source": [
    "def scraping_web_page(url):\n",
    "    sleep(5)\n",
    "    html = requests.get(url)\n",
    "    soup = BeautifulSoup(html.content, 'html.parser')\n",
    "    return soup"
   ]
  },
  {
   "cell_type": "code",
   "execution_count": 14,
   "metadata": {
    "ExecuteTime": {
     "end_time": "2020-01-03T11:54:04.655743Z",
     "start_time": "2020-01-03T11:53:53.930596Z"
    }
   },
   "outputs": [],
   "source": [
    "# B'zの歌詞は2ページ\n",
    "urls = [\n",
    "    'https://www.uta-net.com/artist/134/',\n",
    "    'https://www.uta-net.com/artist/134/0/2/'\n",
    "]\n",
    "artist_dfs = []\n",
    "for url in urls:\n",
    "    #曲一覧ページをスクレイピングする\n",
    "    soup = scraping_web_page(url)\n",
    "    #htmlをパースして曲名、各曲URL、アーティスト名、作詞、作曲者名を取得する\n",
    "    contents = []\n",
    "    contents.append(soup.find_all(href=re.compile('/song/\\d+/$')))\n",
    "    contents.append(soup.find_all(href=re.compile('/song/\\d+/$')))\n",
    "    contents.append(soup.find_all(class_=re.compile('td2')))\n",
    "    contents.append(soup.find_all(class_=re.compile('td3')))\n",
    "    contents.append(soup.find_all(class_=re.compile('td4')))\n",
    "    infomations = []\n",
    "    for i, content in enumerate(contents):\n",
    "        tmp_list = []\n",
    "        for element in content:\n",
    "            if i == 0:\n",
    "                tmp_list.append(element.get('href'))\n",
    "            else:\n",
    "                tmp_list.append(element.string)\n",
    "        infomations.append(tmp_list)\n",
    "    #DataFrameにする\n",
    "    artist_df = pd.DataFrame({\n",
    "        'URL': infomations[0],\n",
    "        'SongName': infomations[1],\n",
    "        'Artist': infomations[2],\n",
    "        'Lyricist': infomations[3],\n",
    "        'Composer': infomations[4]\n",
    "    })\n",
    "    #URLにホストネームを付加\n",
    "    artist_df['URL'] = artist_df['URL'].apply(lambda x: 'https://www.uta-net.com' + x)\n",
    "    artist_dfs.append(artist_df)\n",
    "df_all = pd.concat(artist_dfs)"
   ]
  },
  {
   "cell_type": "code",
   "execution_count": 24,
   "metadata": {
    "ExecuteTime": {
     "end_time": "2020-01-03T13:07:05.237249Z",
     "start_time": "2020-01-03T12:37:16.053825Z"
    }
   },
   "outputs": [
    {
     "data": {
      "application/vnd.jupyter.widget-view+json": {
       "model_id": "a185df8e88b343069556d8ba07d49758",
       "version_major": 2,
       "version_minor": 0
      },
      "text/plain": [
       "HBox(children=(FloatProgress(value=0.0, max=347.0), HTML(value='')))"
      ]
     },
     "metadata": {},
     "output_type": "display_data"
    },
    {
     "name": "stdout",
     "output_type": "stream",
     "text": [
      "\n"
     ]
    }
   ],
   "source": [
    "#各曲のページをスクレイピングする\n",
    "contents_list = []\n",
    "for i, url in tqdm(df_all['URL'].iteritems(), total=len(df_all)):\n",
    "    contents_list.append(scraping_web_page(url))\n",
    "#歌詞、発売日、商品番号をdataframeに格納する\n",
    "lyrics = []\n",
    "sales_dates = []\n",
    "cd_nums = []\n",
    "for contents in contents_list:\n",
    "    lyrics.append(contents.find(id='kashi_area').text)\n",
    "    sales_dates.append(contents.find(id='view_amazon').text[4:14])\n",
    "    cd_nums.append(contents.find(id='view_amazon').text[19:28])"
   ]
  },
  {
   "cell_type": "code",
   "execution_count": 25,
   "metadata": {
    "ExecuteTime": {
     "end_time": "2020-01-03T13:16:07.563304Z",
     "start_time": "2020-01-03T13:16:07.537805Z"
    }
   },
   "outputs": [
    {
     "data": {
      "text/html": [
       "<div>\n",
       "<style scoped>\n",
       "    .dataframe tbody tr th:only-of-type {\n",
       "        vertical-align: middle;\n",
       "    }\n",
       "\n",
       "    .dataframe tbody tr th {\n",
       "        vertical-align: top;\n",
       "    }\n",
       "\n",
       "    .dataframe thead th {\n",
       "        text-align: right;\n",
       "    }\n",
       "</style>\n",
       "<table border=\"1\" class=\"dataframe\">\n",
       "  <thead>\n",
       "    <tr style=\"text-align: right;\">\n",
       "      <th></th>\n",
       "      <th>Artist</th>\n",
       "      <th>Composer</th>\n",
       "      <th>Lyricist</th>\n",
       "      <th>SongName</th>\n",
       "      <th>URL</th>\n",
       "      <th>Lyric</th>\n",
       "      <th>Sales_Date</th>\n",
       "      <th>CD_Number</th>\n",
       "    </tr>\n",
       "  </thead>\n",
       "  <tbody>\n",
       "    <tr>\n",
       "      <th>0</th>\n",
       "      <td>B'z</td>\n",
       "      <td>Takahiro Matsumoto</td>\n",
       "      <td>Kohshi Inaba</td>\n",
       "      <td>I WANNA DANCE Wicked Beat Style</td>\n",
       "      <td>https://www.uta-net.com/song/54892/</td>\n",
       "      <td>Crush! Crush! Taxi on a busy neon streetGive m...</td>\n",
       "      <td>：1990-06-2</td>\n",
       "      <td>：BMCR-900</td>\n",
       "    </tr>\n",
       "    <tr>\n",
       "      <th>1</th>\n",
       "      <td>B'z</td>\n",
       "      <td>松本孝弘</td>\n",
       "      <td>稲葉浩志</td>\n",
       "      <td>あいかわらずなボクら</td>\n",
       "      <td>https://www.uta-net.com/song/7938/</td>\n",
       "      <td>今まで好きなこともしたし たまに我慢もしてきた「あいつはダメだ」 なんてキミ勝手に決めないで...</td>\n",
       "      <td>：1991-11-2</td>\n",
       "      <td>：BMCR-64B</td>\n",
       "    </tr>\n",
       "    <tr>\n",
       "      <th>2</th>\n",
       "      <td>B'z</td>\n",
       "      <td>TAK MATSUMOTO</td>\n",
       "      <td>KOSHI INABA</td>\n",
       "      <td>愛と憎しみのハジマリ</td>\n",
       "      <td>https://www.uta-net.com/song/17979/</td>\n",
       "      <td>誰もが愛する者　守ろうとしてる頃　憎しみがスキをうかがう大破綻の雰囲気が世界中を取り巻いて朝...</td>\n",
       "      <td>：2003-09-1</td>\n",
       "      <td>：BMCV-800</td>\n",
       "    </tr>\n",
       "    <tr>\n",
       "      <th>3</th>\n",
       "      <td>B'z</td>\n",
       "      <td>松本孝弘</td>\n",
       "      <td>稲葉浩志</td>\n",
       "      <td>愛のバクダン</td>\n",
       "      <td>https://www.uta-net.com/song/25415/</td>\n",
       "      <td>今日も一日　不完全な世界きみが泣かなくても　誰か泣く人がこしらえた　悲しみのからくりなんとか...</td>\n",
       "      <td>：2005-03-0</td>\n",
       "      <td>：BMCV-400</td>\n",
       "    </tr>\n",
       "    <tr>\n",
       "      <th>4</th>\n",
       "      <td>B'z</td>\n",
       "      <td>TAK MATSUMOTO</td>\n",
       "      <td>KOSHI INABA</td>\n",
       "      <td>愛のprisoner</td>\n",
       "      <td>https://www.uta-net.com/song/26049/</td>\n",
       "      <td>I hate you, hate you　こらえきれずに夜の闇に吠える　涙流さないあなたのど...</td>\n",
       "      <td>：2000-12-0</td>\n",
       "      <td>：BMCR-704</td>\n",
       "    </tr>\n",
       "  </tbody>\n",
       "</table>\n",
       "</div>"
      ],
      "text/plain": [
       "  Artist            Composer      Lyricist                         SongName  \\\n",
       "0    B'z  Takahiro Matsumoto  Kohshi Inaba  I WANNA DANCE Wicked Beat Style   \n",
       "1    B'z                松本孝弘          稲葉浩志                       あいかわらずなボクら   \n",
       "2    B'z       TAK MATSUMOTO   KOSHI INABA                       愛と憎しみのハジマリ   \n",
       "3    B'z                松本孝弘          稲葉浩志                           愛のバクダン   \n",
       "4    B'z       TAK MATSUMOTO   KOSHI INABA                       愛のprisoner   \n",
       "\n",
       "                                   URL  \\\n",
       "0  https://www.uta-net.com/song/54892/   \n",
       "1   https://www.uta-net.com/song/7938/   \n",
       "2  https://www.uta-net.com/song/17979/   \n",
       "3  https://www.uta-net.com/song/25415/   \n",
       "4  https://www.uta-net.com/song/26049/   \n",
       "\n",
       "                                               Lyric  Sales_Date  CD_Number  \n",
       "0  Crush! Crush! Taxi on a busy neon streetGive m...  ：1990-06-2  ：BMCR-900  \n",
       "1  今まで好きなこともしたし たまに我慢もしてきた「あいつはダメだ」 なんてキミ勝手に決めないで...  ：1991-11-2  ：BMCR-64B  \n",
       "2  誰もが愛する者　守ろうとしてる頃　憎しみがスキをうかがう大破綻の雰囲気が世界中を取り巻いて朝...  ：2003-09-1  ：BMCV-800  \n",
       "3  今日も一日　不完全な世界きみが泣かなくても　誰か泣く人がこしらえた　悲しみのからくりなんとか...  ：2005-03-0  ：BMCV-400  \n",
       "4  I hate you, hate you　こらえきれずに夜の闇に吠える　涙流さないあなたのど...  ：2000-12-0  ：BMCR-704  "
      ]
     },
     "execution_count": 25,
     "metadata": {},
     "output_type": "execute_result"
    }
   ],
   "source": [
    "df_all['Lyric'] = lyrics\n",
    "df_all['Sales_Date'] = sales_dates\n",
    "df_all['CD_Number'] = cd_nums\n",
    "df_all.head()"
   ]
  },
  {
   "cell_type": "code",
   "execution_count": 26,
   "metadata": {
    "ExecuteTime": {
     "end_time": "2020-01-03T13:16:12.336559Z",
     "start_time": "2020-01-03T13:16:12.323200Z"
    }
   },
   "outputs": [],
   "source": [
    "df_all.to_csv('lyrics_original.csv')"
   ]
  }
 ],
 "metadata": {
  "kernelspec": {
   "display_name": "Python 3",
   "language": "python",
   "name": "python3"
  },
  "language_info": {
   "codemirror_mode": {
    "name": "ipython",
    "version": 3
   },
   "file_extension": ".py",
   "mimetype": "text/x-python",
   "name": "python",
   "nbconvert_exporter": "python",
   "pygments_lexer": "ipython3",
   "version": "3.5.6"
  },
  "toc": {
   "base_numbering": 1,
   "nav_menu": {},
   "number_sections": true,
   "sideBar": true,
   "skip_h1_title": false,
   "title_cell": "Table of Contents",
   "title_sidebar": "Contents",
   "toc_cell": false,
   "toc_position": {},
   "toc_section_display": true,
   "toc_window_display": false
  },
  "varInspector": {
   "cols": {
    "lenName": 16,
    "lenType": 16,
    "lenVar": 40
   },
   "kernels_config": {
    "python": {
     "delete_cmd_postfix": "",
     "delete_cmd_prefix": "del ",
     "library": "var_list.py",
     "varRefreshCmd": "print(var_dic_list())"
    },
    "r": {
     "delete_cmd_postfix": ") ",
     "delete_cmd_prefix": "rm(",
     "library": "var_list.r",
     "varRefreshCmd": "cat(var_dic_list()) "
    }
   },
   "types_to_exclude": [
    "module",
    "function",
    "builtin_function_or_method",
    "instance",
    "_Feature"
   ],
   "window_display": false
  }
 },
 "nbformat": 4,
 "nbformat_minor": 2
}
